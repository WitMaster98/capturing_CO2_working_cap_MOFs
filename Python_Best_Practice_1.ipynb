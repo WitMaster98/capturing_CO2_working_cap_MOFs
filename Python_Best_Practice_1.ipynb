{
  "nbformat": 4,
  "nbformat_minor": 0,
  "metadata": {
    "colab": {
      "name": "Python Best Practice 1.ipynb",
      "provenance": [],
      "authorship_tag": "ABX9TyOXOWHcO7eeX2JzQtkv2d8h",
      "include_colab_link": true
    },
    "kernelspec": {
      "name": "python3",
      "display_name": "Python 3"
    },
    "language_info": {
      "name": "python"
    }
  },
  "cells": [
    {
      "cell_type": "markdown",
      "metadata": {
        "id": "view-in-github",
        "colab_type": "text"
      },
      "source": [
        "<a href=\"https://colab.research.google.com/github/WitMaster98/capturing_CO2_working_cap_MOFs/blob/main/Python_Best_Practice_1.ipynb\" target=\"_parent\"><img src=\"https://colab.research.google.com/assets/colab-badge.svg\" alt=\"Open In Colab\"/></a>"
      ]
    },
    {
      "cell_type": "markdown",
      "source": [
        "# Python Best Practice"
      ],
      "metadata": {
        "id": "CheOdCwe4j7n"
      }
    },
    {
      "cell_type": "markdown",
      "source": [
        "## Mount Gdrive"
      ],
      "metadata": {
        "id": "eDzXkwi34tNe"
      }
    },
    {
      "cell_type": "code",
      "source": [
        "from google.colab import drive\n",
        "drive.mount('/gdrive')"
      ],
      "metadata": {
        "colab": {
          "base_uri": "https://localhost:8080/"
        },
        "id": "uKAq6ZoV4Q_0",
        "outputId": "8c6ebaae-7f8a-4b68-8170-f14ca1a3ea86"
      },
      "execution_count": 9,
      "outputs": [
        {
          "output_type": "stream",
          "name": "stdout",
          "text": [
            "Mounted at /gdrive\n"
          ]
        }
      ]
    },
    {
      "cell_type": "code",
      "source": [
        "!ls -la /content/gdrive/My\\ Drive/Colab\\ Notebooks/"
      ],
      "metadata": {
        "id": "BQ2kVAhwRyTr"
      },
      "execution_count": null,
      "outputs": []
    },
    {
      "cell_type": "markdown",
      "source": [
        "## Git Repo"
      ],
      "metadata": {
        "id": "uKpOAgH27eaa"
      }
    },
    {
      "cell_type": "code",
      "source": [
        "!git clone https://github.com/wxs/keras-mnist-tutorial.git"
      ],
      "metadata": {
        "colab": {
          "base_uri": "https://localhost:8080/"
        },
        "id": "GBarboZd7jlG",
        "outputId": "9c0b8f78-d1a2-448e-91b6-186ba01bf798"
      },
      "execution_count": 10,
      "outputs": [
        {
          "output_type": "stream",
          "name": "stdout",
          "text": [
            "Cloning into 'keras-mnist-tutorial'...\n",
            "remote: Enumerating objects: 26, done.\u001b[K\n",
            "remote: Total 26 (delta 0), reused 0 (delta 0), pack-reused 26\u001b[K\n",
            "Unpacking objects: 100% (26/26), done.\n"
          ]
        }
      ]
    }
  ]
}